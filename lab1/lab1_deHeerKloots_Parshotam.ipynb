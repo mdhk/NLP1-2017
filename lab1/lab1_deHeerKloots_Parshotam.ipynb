{
 "cells": [
  {
   "cell_type": "code",
   "execution_count": 1,
   "metadata": {
    "collapsed": true
   },
   "outputs": [],
   "source": [
    "%matplotlib inline\n",
    "import matplotlib\n",
    "import numpy as np\n",
    "import matplotlib.pyplot as plt"
   ]
  },
  {
   "cell_type": "markdown",
   "metadata": {},
   "source": [
    "# Lab 1: Text Corpora and Language Modelling\n",
    "\n",
    "This lab is meant to help you get familiar with some language data, and use this data to estimate N-gram language models\n",
    "\n",
    "First you will use the **Penn Treebank**, which is a collection of newspaper articles from the newspaper \n",
    "The Wall Street Journal. The idea is to examine the data and notice interesting properties. This will not take more than a few lines of code.\n",
    "\n",
    "Then you will use a corpus consisting of **TedX** talks. This you will use to estimate an **N-gram language model** for different orders of N, and use this this for some tasks.\n",
    "\n",
    "The datasets are on blackboard under course materials. Download the zip and make sure to put the files in the same directory as the notebook.\n",
    "\n",
    "### Rules\n",
    "* The lab exercises should be made in **groups of two people**.\n",
    "\n",
    "* The deadline is **Tuesday 7 nov 16:59**.\n",
    "\n",
    "* The assignment should submitted to **Blackboard** as `.ipynb`. Only **one submission per group**.\n",
    "\n",
    "* The **filename** should be `lab1_lastname1_lastname2.ipynb`, so for example `lab1_Jurafsky_Martin.ipynb`.\n",
    "\n",
    "* The notebook is graded on a scale of **0-10**. The number of points for each question is indicated in parantheses. \n",
    "\n",
    "* The questions marked **optional** are not graded; they are an additional challenge for those interested in going the extra mile. \n",
    "\n",
    "Notes on implementation:\n",
    "\n",
    "* You should **write your code and answers in this iPython Notebook** (see http://ipython.org/notebook.html for reference material). If you have problems, please contact your teaching assistant.\n",
    "\n",
    "* Use only **one cell for code** and **one cell for markdown** answers!    \n",
    "\n",
    "    * Put all code in the cell with the `# YOUR CODE HERE` comment.\n",
    "    \n",
    "    * For theoretical question, put your solution in the YOUR ANSWER HERE cell.\n",
    "    \n",
    "* Test your code and **make sure we can run your notebook**"
   ]
  },
  {
   "cell_type": "markdown",
   "metadata": {},
   "source": [
    "# 1. Penn treebank\n",
    "\n",
    "## Exercise 1.1 (40 points, 5 points per subquestion )\n",
    "\n",
    "You are provided with a corpus containing words with their Part-of-Speech tags (POS-tags for short). The format is\n",
    "**word|POS** (one sentence per line) and the file name is **sec02-22.gold.tagged**. This data is extracted from Sections 02-22 from the Penn Treebank: these sections are most commonly used for training statistical models like POS-taggers and parsers.\n",
    "\n",
    "**[Hint]** **Figure 10.1** in chapter 10 of Jurafsky and Martin (see [here](https://web.stanford.edu/~jurafsky/slp3/10.pdf)) holds a summary of the 45 POS-tags used in the Penn Treebank tagset together with their meaning and some examples. (If you are keen on learning more about the word-classes represented POS-tags and their definitions you can do a litle reading ahead for next week and already have a look at section 10.1 of the same chapter).\n",
    "\n",
    "**[Hint]** the Python library [collections](https://docs.python.org/2/library/collections.html) has an object called `Counter` which will come in handy for this exercise."
   ]
  },
  {
   "cell_type": "markdown",
   "metadata": {},
   "source": [
    " "
   ]
  },
  {
   "cell_type": "markdown",
   "metadata": {},
   "source": [
    "**(a)** How large is the corpus? (i.e. how **many tokens**). And what is the size of the **vocabulary** used in this corpus? \n",
    "\n",
    "Estimate the vocabulary size both by **lowercasing** all the words as well as by leaving the words in their **original orthography**. What is an advantage of lowercasing all the words in your corpus? What is a notable downside? **Give examples.**"
   ]
  },
  {
   "cell_type": "code",
   "execution_count": 2,
   "metadata": {},
   "outputs": [
    {
     "name": "stdout",
     "output_type": "stream",
     "text": [
      "Size of the vocabulary: 44210\n",
      "Size of lowercase vocabulary: 39384\n"
     ]
    }
   ],
   "source": [
    "# import necessary modules\n",
    "from collections import Counter\n",
    "\n",
    "corpus = 0 \n",
    "vocab = Counter()\n",
    "vocab_low = Counter()\n",
    "\n",
    "with open(\"wsj/sec02-21.gold.tagged\", \"r\") as infile:\n",
    "    for token in infile.read().split():\n",
    "        \n",
    "        # how large is the corpus?\n",
    "        corpus += 1\n",
    "        \n",
    "        # what is the size of the vocabulary used in this corpus?\n",
    "        word = token.split(\"|\")[0]\n",
    "        vocab[word] += 1\n",
    "        \n",
    "        # estimate the vocabulary size both by lowercasing\n",
    "        word = word.lower()\n",
    "        vocab_low[word] += 1\n",
    "        \n",
    "print (\"Size of the vocabulary:\",len(vocab))\n",
    "print (\"Size of lowercase vocabulary:\",len(vocab_low))"
   ]
  },
  {
   "cell_type": "markdown",
   "metadata": {},
   "source": [
    "** What is an advantage of lowercasing all the words in your corpus? What is a notable downside? Give examples. **\n",
    "\n",
    "*When we lowercase all words in the vocabulary, some words which are capitalized in the data set will be regarded as equal to the same word but uncapitalized in the dataset. An advantage of this is for example are words occuring at the start of sentences: these are capitalized, but may have equal probabilities for following words as the same word occuring in the middle of sentences (which would be uncapitalized). A notable downside is proper nouns: for example, one sentence in the training set is \"Bell, based in Los Angeles, makes and distributes electronic, computer and building products.\". Here, 'Bell' is a proper noun (someone's name) and should not be regarded as the same word lowercase (the noun 'bell', meaning the instrument). However, when we lowercase all words, these two words will be regarded as equal.*"
   ]
  },
  {
   "cell_type": "markdown",
   "metadata": {},
   "source": [
    "------\n",
    "For the rest of this exercise you should use the **original orthography** of the data when answering the questions.\n",
    "\n",
    "------\n"
   ]
  },
  {
   "cell_type": "markdown",
   "metadata": {},
   "source": [
    "**(b)** Plot a graph of word frequency versus rank of a word, in this corpus. Does this corpus obey **Zipf’s law**?"
   ]
  },
  {
   "cell_type": "code",
   "execution_count": 3,
   "metadata": {
    "scrolled": true
   },
   "outputs": [
    {
     "data": {
      "image/png": "[encoded data removed]",
      "text/plain": [
       "<matplotlib.figure.Figure at 0x105598ef0>"
      ]
     },
     "metadata": {},
     "output_type": "display_data"
    }
   ],
   "source": [
    "ranked_count = []\n",
    "for count in vocab.most_common()[:] :\n",
    "    ranked_count.append(count[1])\n",
    "plt.loglog(np.arange(1,len(ranked_count)+1),ranked_count)\n",
    "plt.title(\"Zipf's Law\")\n",
    "plt.xlabel('word rank (log)')\n",
    "plt.ylabel('word frequency (log)')\n",
    "plt.show()"
   ]
  },
  {
   "cell_type": "markdown",
   "metadata": {},
   "source": [
    "**Does this corpus obey Zipf’s law?**\n",
    "\n",
    "*In the graph we see the common pattern that we know for Zipf's law: word frequency decreases very rapidly with word rank. So indeed the corpus obeys Zipf's law.*"
   ]
  },
  {
   "cell_type": "markdown",
   "metadata": {},
   "source": [
    "**(c)** What are the **20 most common words** in the corpus and how often do they occur? What is the 50th most common word, the 100th and the 1000th and how often do they occur?"
   ]
  },
  {
   "cell_type": "code",
   "execution_count": 4,
   "metadata": {},
   "outputs": [
    {
     "name": "stdout",
     "output_type": "stream",
     "text": [
      "[(',', 48310), ('the', 40839), ('.', 38798), ('of', 22782), ('to', 22056), ('a', 19171), ('and', 15906), ('in', 15085), (\"'s\", 9249), ('that', 7951), ('for', 7912), ('$', 7125), ('is', 6893), ('The', 6791), ('said', 5597), ('on', 5112), ('%', 4871), ('it', 4639), ('by', 4450), ('from', 4437)]\n",
      "50th most common word ('had', 1755)\n",
      "100th most common word ('A', 860)\n",
      "1000th most common word ('situation', 109)\n"
     ]
    }
   ],
   "source": [
    "#20 most common words\n",
    "print (vocab.most_common(20))\n",
    "# 50th most common word\n",
    "print (\"50th most common word\", vocab.most_common(50)[-1])\n",
    "# 100th most common word\n",
    "print (\"100th most common word\", vocab.most_common(100)[-1])\n",
    "# 1000th most common word\n",
    "print (\"1000th most common word\", vocab.most_common(1000)[-1])"
   ]
  },
  {
   "cell_type": "markdown",
   "metadata": {},
   "source": [
    "**(d)** How many different Part-of-speech tags are present in the corpus?"
   ]
  },
  {
   "cell_type": "code",
   "execution_count": 5,
   "metadata": {
    "scrolled": true
   },
   "outputs": [
    {
     "name": "stdout",
     "output_type": "stream",
     "text": [
      "Number of different part-of-speech tags: 48\n"
     ]
    }
   ],
   "source": [
    "part_of_speech = Counter()\n",
    "vocab_pos = Counter()\n",
    "\n",
    "with open(\"wsj/sec02-21.gold.tagged\", \"r\") as infile:\n",
    "    for token in infile.read().split():\n",
    "        pos = token.split(\"|\")[1]\n",
    "        word = token.split(\"|\")[0]\n",
    "        part_of_speech[pos] += 1\n",
    "        vocab_pos[(word, pos)] += 1\n",
    "    \n",
    "print(\"Number of different part-of-speech tags:\",len(part_of_speech))"
   ]
  },
  {
   "cell_type": "markdown",
   "metadata": {},
   "source": [
    "**(e)** Print a list of the **10 most commonly occurring POS tags** in the data. For each of these POS tags, what are the **3 most common words** that belong to that class?"
   ]
  },
  {
   "cell_type": "code",
   "execution_count": 6,
   "metadata": {},
   "outputs": [
    {
     "name": "stdout",
     "output_type": "stream",
     "text": [
      "[('NN', 132134), ('IN', 99413), ('NNP', 90711), ('DT', 82147), ('JJ', 59643), ('NNS', 59332), (',', 48314), ('.', 39252), ('CD', 36148), ('RB', 30232)]\n",
      "\n",
      "The 3 most commonly occurring words in each POS are:\n",
      "NN - %, company, year\n",
      "IN - of, in, for\n",
      "NNP - Mr., U.S., Corp.\n",
      "DT - the, a, The\n",
      "JJ - new, other, last\n",
      "NNS - years, shares, sales\n",
      ", - ,, section, an\n",
      ". - ., ?, !\n",
      "CD - million, billion, one\n",
      "RB - n't, also, not\n"
     ]
    }
   ],
   "source": [
    "# print a list of the 10 most commonly occurring POS tags\n",
    "print (part_of_speech.most_common(10))\n",
    "\n",
    "# for each of these POS tags, what are the 3 most common words\n",
    "def get3common(input_pos):\n",
    "    temp_counter = Counter()\n",
    "    for key in vocab_pos.keys():\n",
    "        if key[1] == input_pos:\n",
    "            # push word and count to temp counter\n",
    "            temp_counter[key[0]] += vocab_pos[key]\n",
    "            \n",
    "    return temp_counter.most_common(3)\n",
    "    \n",
    "print(\"\\nThe 3 most commonly occurring words in each POS are:\")\n",
    "for partOfSpeech in part_of_speech.most_common(10):\n",
    "    print(partOfSpeech[0] + \" - \" + \", \".join([word[0] for word in get3common(partOfSpeech[0])]))"
   ]
  },
  {
   "cell_type": "markdown",
   "metadata": {},
   "source": [
    "**(f)** A single word may have several POS-tags. For example, *record* can be a both a **noun** *(buy a record)* or a **verb** *(record a lecture)*. This make POS-tags extremely useful for **disambiguation**.\n",
    "\n",
    "What percentage of the words in the vocabulary is **ambiguous**? (i.e. have more than one POS tag?) What are the 10 most frequent combinations of POS tags in the case of ambitguity? Which words are **most ambiguous**? Give some of them."
   ]
  },
  {
   "cell_type": "code",
   "execution_count": 7,
   "metadata": {
    "scrolled": true
   },
   "outputs": [
    {
     "name": "stdout",
     "output_type": "stream",
     "text": [
      "13.47% of the words in the vocabulary are ambiguous\n",
      "\n",
      "The 10 most frequent combinations of POS tags are:\n",
      "('VBD', 'VBN')\n",
      "('JJ', 'NN')\n",
      "('NN', 'VB')\n",
      "('VBP', 'VB')\n",
      "('NNP', 'NN')\n",
      "('JJ', 'VBN')\n",
      "('NN', 'VBP')\n",
      "('VBG', 'NN')\n",
      "('VBZ', 'NNS')\n",
      "('JJ', 'NNP')\n",
      "\n",
      "The most ambiguous words (taking 7 different parts of speech) are: open, set, many, down\n"
     ]
    }
   ],
   "source": [
    "# create dictionary of lists\n",
    "word_pos_dict = {}\n",
    "\n",
    "for key in vocab_pos.keys():\n",
    "    # if word in dictionary\n",
    "    if key[0] in word_pos_dict:\n",
    "        # append POS\n",
    "        word_pos_dict[key[0]].append(key[1])\n",
    "    else:\n",
    "        # else create new entry\n",
    "        word_pos_dict[key[0]] = [key[1]]\n",
    "\n",
    "ambiguity_words = 0\n",
    "for entry in word_pos_dict:\n",
    "    if len(word_pos_dict[entry]) > 1:\n",
    "        ambiguity_words += 1\n",
    "        \n",
    "posCombination = Counter()\n",
    "mostAmbiguous = {}\n",
    "\n",
    "\n",
    "for word in word_pos_dict:\n",
    "    # select amiguous words\n",
    "    if len(word_pos_dict[word]) > 1:\n",
    "        mostAmbiguous[word] = len(word_pos_dict[word])\n",
    "        # go through the pos\n",
    "        for pos1 in word_pos_dict[word]:\n",
    "            for pos2 in word_pos_dict[word]:\n",
    "                if pos1 != pos2:\n",
    "                    # append to new counter\n",
    "                    posCombination[(pos1,pos2)] += 1\n",
    "\n",
    "print(str(round((ambiguity_words/len(vocab)) * 100, 2)) + \"% of the words in the vocabulary are ambiguous\")\n",
    "\n",
    "print(\"\\nThe 10 most frequent combinations of POS tags are:\")\n",
    "for (index, posCombi) in enumerate(posCombination.most_common(20)):\n",
    "    if index%2 == 0:\n",
    "        print(posCombi[0])\n",
    "\n",
    "mostAmbiguousWords = [word[0] for word in Counter(mostAmbiguous).most_common(4)]\n",
    "print(\"\\nThe most ambiguous words (taking 7 different parts of speech) are: \" + \", \".join(mostAmbiguousWords))"
   ]
  },
  {
   "cell_type": "markdown",
   "metadata": {},
   "source": [
    "**(g)**  Print some of these words with their multiple POS-tags. Do you **understand the ambiguity**? Use figure 10.1 mentioned above to interpret the POS-tags."
   ]
  },
  {
   "cell_type": "code",
   "execution_count": 8,
   "metadata": {},
   "outputs": [
    {
     "name": "stdout",
     "output_type": "stream",
     "text": [
      "\n",
      "The word ' open 'has POS ['VB', 'RB', 'JJ', 'VBZ', 'VBP', 'RP', 'NN']\n",
      "This means that the word open can be interpreted as ['verb (base form)', 'adverb', 'adjective', 'verb (3rd person singular present)', 'verb (non-3rd person singular present)', 'particle', 'noun (singular or mass)']\n",
      "Each can have a different interpretation / meaning.\n",
      "\n",
      "The word ' set 'has POS ['NN', 'VBP', 'VBN', 'VBD', 'JJ', 'VBZ', 'VB']\n",
      "This means that the word set can be interpreted as ['noun (singular or mass)', 'verb (non-3rd person singular present)', 'verb (past participle)', 'verb (past tense)', 'adjective', 'verb (3rd person singular present)', 'verb (base form)']\n",
      "Each can have a different interpretation / meaning.\n",
      "\n",
      "The word ' many 'has POS ['NP', 'RB', 'NN', 'VB', 'DT', 'JJ', 'PDT']\n",
      "This means that the word many can be interpreted as ['proper noun, singular', 'adverb', 'noun (singular or mass)', 'verb (base form)', 'determiner', 'adjective', 'predeterminer']\n",
      "Each can have a different interpretation / meaning.\n",
      "\n",
      "The word ' down 'has POS ['RB', 'RP', 'IN', 'NN', 'JJ', 'VBP', 'RBR']\n",
      "This means that the word down can be interpreted as ['adverb', 'particle', 'preposition or subordinating conjunction', 'noun (singular or mass)', 'adjective', 'verb (non-3rd person singular present)', 'comparative adverb']\n",
      "Each can have a different interpretation / meaning.\n"
     ]
    }
   ],
   "source": [
    "code = {\n",
    "    \"CC\"  : \"coordinating conjunction\",\n",
    "    \"SYM\" : \"symbol\",\n",
    "    \"CD\"  : \"cardinal number\",\n",
    "    \"TO\"  : \"'to'\",\n",
    "    \"DT\"  : \"determiner\",\n",
    "    \"UH\"  : \"interjection\",\n",
    "    \"EX\"  : \"existential 'there'\",\n",
    "    \"VB\"  : \"verb (base form)\",\n",
    "    \"FW\"  : \"foreign word\",\n",
    "    \"VBD\" : \"verb (past tense)\",\n",
    "    \"IN\"  : \"preposition or subordinating conjunction\",\n",
    "    \"VBG\" : \"verb (gerund)\",\n",
    "    \"JJ\"  : \"adjective\",\n",
    "    \"VBN\" : \"verb (past participle)\",\n",
    "    \"JJR\" : \"comparative adjective\",\n",
    "    \"VBP\" : \"verb (non-3rd person singular present)\",\n",
    "    \"JJS\" : \"superlative adjective\",\n",
    "    \"VBZ\" : \"verb (3rd person singular present)\",\n",
    "    \"LS\"  : \"list item marker\",\n",
    "    \"WDT\" : \"wh-determiner\",\n",
    "    \"MD\"  : \"modal\",\n",
    "    \"WP\"  : \"wh-pronoun\",\n",
    "    \"NN\"  : \"noun (singular or mass)\",\n",
    "    \"WP$\" : \"possessive wh-\",\n",
    "    \"NNS\" : \"plural noun\",\n",
    "    \"WRB\" : \"wh-adverb\",\n",
    "    \"NP\"  : \"proper noun, singular\",\n",
    "    \"NNP\" : \"proper noun, singular\",\n",
    "    \"$\"   : \"dollar sign\",\n",
    "    \"NPS\" : \"proper noun, plural\",\n",
    "    \"NNPS\": \"proper noun, plural\",\n",
    "    \"#\"   : \"pound sign\",\n",
    "    \"PDT\" : \"predeterminer\",\n",
    "    \"\\“\"  : \"left quote\",\n",
    "    \"POS\" : \"possessive ending\",\n",
    "    \"\\”\"  : \"right quote\",\n",
    "    \"PP\"  : \"personal pronoun\",\n",
    "    \"PRP\" : \"personal pronoun\",\n",
    "    \"(\"   : \"left parenthesis\",\n",
    "    \"PP$\" : \"possessive pronoun\",\n",
    "    \"PRP$\": \"possessive pronoun\",\n",
    "    \")\"   : \"right parenthesis\",\n",
    "    \"RB\"  : \"adverb\",\n",
    "    \",\"   : \"comma\",\n",
    "    \"RBR\" : \"comparative adverb\",\n",
    "    \".\"   : \"sentence-final punc\",\n",
    "    \"RBS\" : \"superlative adverb\",\n",
    "    \":\"   : \"mid-sentence punc\",\n",
    "    \"RP\"  : \"particle\"\n",
    "}\n",
    "\n",
    "for word in mostAmbiguousWords:\n",
    "    print (\"\\nThe word '\", word, \"'has POS\", word_pos_dict[word])\n",
    "    print (\"This means that the word\", word, \"can be interpreted as\", [str(code[pos]) for pos in word_pos_dict[word]])\n",
    "    print (\"Each can have a different interpretation / meaning.\")"
   ]
  },
  {
   "cell_type": "markdown",
   "metadata": {},
   "source": [
    "**(h)** Ambiguous words do not account for a great percentage of the vocabulary. Yet they are among the most commonly occuring words of the English language. What **percentage of the dataset is ambiguous**?"
   ]
  },
  {
   "cell_type": "code",
   "execution_count": 9,
   "metadata": {},
   "outputs": [
    {
     "name": "stdout",
     "output_type": "stream",
     "text": [
      "55.08 % in the dataset are ambiguous\n"
     ]
    }
   ],
   "source": [
    "ambiguousCount = 0 \n",
    "for word in Counter(mostAmbiguous):\n",
    "    if word in vocab.keys():\n",
    "        ambiguousCount += vocab[word]\n",
    "print (round((ambiguousCount/corpus)*100,2),\"% in the dataset are ambiguous\" )"
   ]
  },
  {
   "cell_type": "markdown",
   "metadata": {},
   "source": [
    "## Exercise 1.2 (10 points, 5 per subquestion)"
   ]
  },
  {
   "cell_type": "markdown",
   "metadata": {},
   "source": [
    "You are also provided with another file called **sec00.gold.tagged**. \n",
    "Section 00 of the Penn Treebank is typically used as development data."
   ]
  },
  {
   "cell_type": "markdown",
   "metadata": {},
   "source": [
    "**(a)** How many **unseen words** are present in the development data (i.e., words that have not occurred in the training data)?"
   ]
  },
  {
   "cell_type": "code",
   "execution_count": 10,
   "metadata": {
    "scrolled": false
   },
   "outputs": [
    {
     "name": "stdout",
     "output_type": "stream",
     "text": [
      "There are 1728 unseen words in the development set.\n"
     ]
    }
   ],
   "source": [
    "unseenWords = 0\n",
    "unseen_word_pos = Counter()\n",
    "unseen_word = Counter()\n",
    "with open(\"wsj/sec00.gold.tagged\", \"r\") as infile:\n",
    "    for token in infile.read().split():\n",
    "        word = token.split(\"|\")[0]\n",
    "        pos = token.split(\"|\")[1]\n",
    "        if word not in vocab:\n",
    "            unseenWords += 1\n",
    "            unseen_word[word] += 1\n",
    "            unseen_word_pos[(word, pos)] += 1\n",
    "\n",
    "print (\"There are\", unseenWords, \"unseen words in the development set.\")"
   ]
  },
  {
   "cell_type": "markdown",
   "metadata": {},
   "source": [
    "**(b)** What are the three **POS tag categories** that the most **unseen words** belong to?"
   ]
  },
  {
   "cell_type": "code",
   "execution_count": 11,
   "metadata": {
    "scrolled": true
   },
   "outputs": [
    {
     "name": "stdout",
     "output_type": "stream",
     "text": [
      "The most commmon tags are ['NNP', 'JJ', 'NN']\n"
     ]
    }
   ],
   "source": [
    "unseen_pos = Counter()\n",
    "\n",
    "for word in unseen_word.most_common():\n",
    "    for key in unseen_word_pos.keys():\n",
    "        if word[0] == key[0]:\n",
    "            unseen_pos[key[1]] +=1\n",
    "            \n",
    "print (\"The most commmon tags are\", [key[0] for key in unseen_pos.most_common(3)])"
   ]
  },
  {
   "cell_type": "markdown",
   "metadata": {},
   "source": [
    "# 2. Language Models\n",
    "\n",
    "This part of the lab will be covered in the Wednesday lecture. If you have prior exposure to NLP, go ahead and finish this part! If you don't, start anyway, and this part will be clear after the lecture. \n",
    "\n",
    "Reference **chapter 4** of J&M *Language Modeling with N-Grams*. \n",
    "\n",
    "----------\n",
    "\n",
    "Models that assign **probabilities** to **sequences of words** are called language **language\n",
    "modelels** or **LMs**. The simplest model that assigns probabilities to sentences and sequences of words is the **N-gram** model.\n",
    "\n",
    "Recall that an *N*-gram language model uses **conditional probabilities** of the form\n",
    "    \n",
    "$$P(w_k \\mid w_{k-N+1} \\dots w_{k-1})$$\n",
    "\n",
    "to **approximate** the full **joint probability**\n",
    "\n",
    "$$P(w_1 \\dots w_n)$$\n",
    "\n",
    "of a sequence of words $w_1 \\dots w_n$.\n",
    "\n",
    "The easiest way of obtaining estimates for the probabilities $P(w_k \\mid w_{k-N+1} \\dots w_{k-1})$ is to use the **maximum likelihood estimate** or **MLE**, a widely used statistical estimation method ([read more]((https://en.wikipedia.org/wiki/Maximum_likelihood_estimation)). You count and normalize:\n",
    "\n",
    "$$P_{MLE}(w_k \\mid w_{k-N+1} \\dots w_{k-1}) = \\frac{C(w_{k-N+1} \\dots w_{k-1} w_k)}{C(w_{k-N+1} \\dots w_{k-1})}.$$\n",
    "\n",
    "\n",
    "## Exercise 2.1 (25 points)\n",
    "\n",
    "**(a) ** Complete the function `train_ngram` so that you can train a count-based $N$-gram language model on the data found in `data/ted-train.txt` and train this for $N=2,3,4$. **15 points**\n",
    "\n",
    "**(b) ** Extend the function above so that it accepts a parameter `k` for optional add-$k$ smoothing. **10 points**\n",
    "\n",
    "**[Datastructure hint]** If you store the smoothed language in a naive manner (that is, to store *all* the numbers separately) your datastructure will get huge! If $V$ is the vocabulary then the smoothed bigram model assigns probabilities to $|V|^2$ entries. If $|V|$ is around 80k, the naive way requires you to store more than 64 billion floats. Yet almost all of these are actually just $P(w_n|w_{n-1}) = \\frac{k}{N + k|V|}$, with $k$ the value with which you smooth and $N=C(w_{n-1})$. Think about how you use this fact to make your model work in practice."
   ]
  },
  {
   "cell_type": "markdown",
   "metadata": {},
   "source": [
    "**[Python hint]** The `collections` library has another useful datastructure: the `defaultdict`. Some example uses:"
   ]
  },
  {
   "cell_type": "code",
   "execution_count": 12,
   "metadata": {},
   "outputs": [
    {
     "data": {
      "text/plain": [
       "0.0"
      ]
     },
     "execution_count": 12,
     "metadata": {},
     "output_type": "execute_result"
    }
   ],
   "source": [
    "from collections import defaultdict, Counter\n",
    "\n",
    "d = defaultdict(float)\n",
    "d[\"new key\"]"
   ]
  },
  {
   "cell_type": "markdown",
   "metadata": {},
   "source": [
    "Compare that to an ordinary dictionary:"
   ]
  },
  {
   "cell_type": "code",
   "execution_count": 13,
   "metadata": {},
   "outputs": [],
   "source": [
    "# commented this out so we can use 'Run all' for the kernel\n",
    "# d = dict()\n",
    "# d[\"new key\"]"
   ]
  },
  {
   "cell_type": "markdown",
   "metadata": {},
   "source": [
    "Other datatypes as `default_factory`:"
   ]
  },
  {
   "cell_type": "code",
   "execution_count": 14,
   "metadata": {},
   "outputs": [
    {
     "data": {
      "text/plain": [
       "0"
      ]
     },
     "execution_count": 14,
     "metadata": {},
     "output_type": "execute_result"
    }
   ],
   "source": [
    "d = defaultdict(int)\n",
    "d[\"new key\"]"
   ]
  },
  {
   "cell_type": "code",
   "execution_count": 15,
   "metadata": {},
   "outputs": [
    {
     "data": {
      "text/plain": [
       "[]"
      ]
     },
     "execution_count": 15,
     "metadata": {},
     "output_type": "execute_result"
    }
   ],
   "source": [
    "d = defaultdict(list)\n",
    "d[\"new key\"]"
   ]
  },
  {
   "cell_type": "markdown",
   "metadata": {},
   "source": [
    "Converting an already existing `dict`:"
   ]
  },
  {
   "cell_type": "code",
   "execution_count": 16,
   "metadata": {},
   "outputs": [
    {
     "name": "stdout",
     "output_type": "stream",
     "text": [
      "value\n",
      "0.0\n"
     ]
    }
   ],
   "source": [
    "d1 = {k: \"value\" for k in range(1, 11)}\n",
    "d = defaultdict(float, d1) # convert it to a defaultdict\n",
    "print(d[5])\n",
    "print(d[100])"
   ]
  },
  {
   "cell_type": "markdown",
   "metadata": {},
   "source": [
    "This doesn't work:"
   ]
  },
  {
   "cell_type": "code",
   "execution_count": 17,
   "metadata": {},
   "outputs": [],
   "source": [
    "# also commented this out so we can use Run all\n",
    "# d = defaultdict(10)"
   ]
  },
  {
   "cell_type": "markdown",
   "metadata": {},
   "source": [
    "Use a `lambda` to make the number `10` `callable`\":"
   ]
  },
  {
   "cell_type": "code",
   "execution_count": 18,
   "metadata": {},
   "outputs": [
    {
     "data": {
      "text/plain": [
       "10"
      ]
     },
     "execution_count": 18,
     "metadata": {},
     "output_type": "execute_result"
    }
   ],
   "source": [
    "d = defaultdict(lambda: 10)\n",
    "d[\"new key\"]"
   ]
  },
  {
   "cell_type": "code",
   "execution_count": 19,
   "metadata": {},
   "outputs": [
    {
     "data": {
      "text/plain": [
       "defaultdict(float, {})"
      ]
     },
     "execution_count": 19,
     "metadata": {},
     "output_type": "execute_result"
    }
   ],
   "source": [
    "d = defaultdict(lambda: defaultdict(float))\n",
    "d[\"new key\"]"
   ]
  },
  {
   "cell_type": "markdown",
   "metadata": {},
   "source": [
    "Clever use of a `defaultdict` can be the solution to the problem of data-storing in a smoothing $N$-gram pointed out above:\n",
    "    \n",
    "    ngram = defaultdict(lambda: k/(N+kV), ngram)"
   ]
  },
  {
   "cell_type": "markdown",
   "metadata": {},
   "source": [
    "The following function is given:"
   ]
  },
  {
   "cell_type": "code",
   "execution_count": 20,
   "metadata": {
    "collapsed": true
   },
   "outputs": [],
   "source": [
    "train_file = \"ted/ted-train.txt\"\n",
    "\n",
    "def read(fname, max_lines=np.inf):\n",
    "    \"\"\"\n",
    "    Reads in the data in fname and returns it as\n",
    "    one long list of words. Also returns a vocabulary in\n",
    "    the form of a word2index and index2word dictionary.\n",
    "    \"\"\"\n",
    "    data = []\n",
    "    # w2i will automatically keep a counter to asign to new words\n",
    "    w2i = defaultdict(lambda: len(w2i))\n",
    "    i2w = dict()\n",
    "    start = \"<s>\"\n",
    "    end = \"</s>\"\n",
    "    \n",
    "    with open(fname, \"r\") as fh:\n",
    "        for k, line in enumerate(fh):\n",
    "            if k > max_lines:\n",
    "                break\n",
    "            words = line.strip().split()\n",
    "            # assign an index to each word\n",
    "            for w in words:\n",
    "                i2w[w2i[w]] = w # trick\n",
    "            \n",
    "            sent = [start] + words + [end]\n",
    "            data.append(sent)\n",
    "\n",
    "    return data, w2i, i2w"
   ]
  },
  {
   "cell_type": "code",
   "execution_count": 21,
   "metadata": {},
   "outputs": [],
   "source": [
    "def train_ngram(data, N, k=0, ug=None):\n",
    "    \"\"\"\n",
    "    Trains an n-gram language model with optional add-k smoothing\n",
    "    and additionaly returns the unigram model\n",
    "    \n",
    "    :param data: text-data as returned by read\n",
    "    :param N: (N>1) the order of the ngram e.g. N=2 gives a bigram\n",
    "    :param k: optional add-k smoothing\n",
    "    :returns: ngram and unigram\n",
    "    \"\"\"\n",
    "    ngram = defaultdict(Counter) # ngram[history][word] = #(history,word)\n",
    "    unpacked_data = [word for sent in data for word in sent] \n",
    "    D = len(unpacked_data)\n",
    "    \n",
    "    # store history + word counts\n",
    "    for i, word in enumerate(unpacked_data[N-1:], N):\n",
    "        history = ' '.join(unpacked_data[i-N:i-1])\n",
    "        ngram[history][word] += 1\n",
    "    \n",
    "    # if unigram is not given\n",
    "    if ug is None:\n",
    "        # compute unigram probabilities\n",
    "        unigram = defaultdict(float, Counter(unpacked_data)) # default prob is 0.0  \n",
    "        \n",
    "        # vocabulary size is number of items in unigram\n",
    "        V = len(unigram)\n",
    "        \n",
    "        # compute probabilities for words from the data\n",
    "        for word, word_count in unigram.items():\n",
    "            unigram[word] = (word_count + k)/(D + k*V)\n",
    "\n",
    "        # add default probabilities for unseen words (smoothing when k > 0)\n",
    "        unigram = defaultdict(lambda: k/(D + k*V), unigram)\n",
    "    else:\n",
    "        unigram = ug\n",
    "        V = len(unigram)\n",
    "\n",
    "    # compute ngram probabilities\n",
    "    for history, wordcounts in ngram.items():\n",
    "        history_count = sum(wordcounts.values())\n",
    "        for word, word_count in wordcounts.items():\n",
    "            ngram[history][word] = (word_count + k)/(history_count + k*V)\n",
    "    \n",
    "        # add default probabilities for unseen words (smoothing when k > 0)\n",
    "        ngram[history] = defaultdict(lambda: k/(history_count + k*V), ngram[history])\n",
    "    \n",
    "    return ngram, unigram"
   ]
  },
  {
   "cell_type": "code",
   "execution_count": 22,
   "metadata": {},
   "outputs": [],
   "source": [
    "# be warned, this takes forever\n",
    "data, w2i, i2w = read(train_file)\n",
    "bigram, unigram = train_ngram(data, N=2, k=0)\n",
    "trigram, unigram = train_ngram(data, N=3, k=0, ug=unigram)\n",
    "quadrigram, unigram = train_ngram(data, N=4, k=0, ug=unigram)\n",
    "bigram_smoothed, unigram_smoothed = train_ngram(data, N=2, k=1)\n",
    "trigram_smoothed, unigram_smoothed = train_ngram(data, N=3, k=1, ug=unigram_smoothed)\n",
    "quadrigram_smoothed, unigram_smoothed = train_ngram(data, N=4, k=1, ug=unigram_smoothed)"
   ]
  },
  {
   "cell_type": "markdown",
   "metadata": {},
   "source": [
    "## Exercise 2.2 (5 points)\n",
    "\n",
    "You can use an *N*-gram language model to **generate text**. The higher the order *N* the better your model will be able to catch the long-range dependecies that occur in actual sentences and the better your changes are at generating sensible text. But beware: **sparsity** of language data will quickly cause your model to reproduce entire lines from your training data; in such cases only one $w_k$ was observed for the histories $w_{k-N+1}\\dots w_{k-1}$ in the entire training-set.\n",
    "\n",
    "**Complete** the function `generate_sent`. It takes a language model `lm` and an order `N` and should generate a sentence by **sampling** from the language model.\n",
    "\n",
    "**[Hint]** You can use the method of [inverse transform sampling](https://en.wikipedia.org/wiki/Inverse_transform_sampling) to generate a sample from a **categorical distribution**, $p_1\\dots p_k$ such that $p_i \\geq 0$ and $\\sum_{i=1}^k p_i = 1$, as follows:"
   ]
  },
  {
   "cell_type": "code",
   "execution_count": 23,
   "metadata": {},
   "outputs": [
    {
     "name": "stdout",
     "output_type": "stream",
     "text": [
      "2\n",
      "Counter({2: 509, 1: 205, 3: 205, None: 81})\n"
     ]
    }
   ],
   "source": [
    "from random import random, choice\n",
    "\n",
    "P = [0.2,0.5,0.2,0.1]\n",
    "\n",
    "def sample(P):\n",
    "    u = random() # uniformly random number between 0 and 1\n",
    "    p = 0\n",
    "    for i, p_i in enumerate(P):\n",
    "        if p > u: \n",
    "            return i # the first i s.t. p1 + ... + pi > u\n",
    "        p += p_i\n",
    "        \n",
    "print(sample(P))\n",
    "\n",
    "print(Counter([sample(P) for i in range(1000)])) # check to see if the law of large numbers is still true"
   ]
  },
  {
   "cell_type": "markdown",
   "metadata": {},
   "source": [
    "Inverse transform sampling in the words of Jurafsky and Martin:\n",
    "\n",
    "> Imagine all the words of the English language covering the probability space\n",
    "between 0 and 1, each word covering an interval proportional to its frequency. We\n",
    "choose a random value between 0 and 1 and print the word whose interval includes\n",
    "this chosen value.\n",
    "\n",
    "(J&M, section 4.3)"
   ]
  },
  {
   "cell_type": "code",
   "execution_count": 24,
   "metadata": {},
   "outputs": [
    {
     "name": "stdout",
     "output_type": "stream",
     "text": [
      "<s> Tracy was doing this using quorum sensing . </s>\n"
     ]
    }
   ],
   "source": [
    "def generate_sent(lm, N, wn=0, wn_one=0, wn_most=['', 0]):\n",
    "    \n",
    "    sentence =[]\n",
    "    start = \"<s>\"\n",
    "    stop = \"</s>\"\n",
    "    \n",
    "    if N > 2:\n",
    "        start = choice([hist for hist in lm.keys() if (hist.split()[0] == start and stop not in hist)])\n",
    "        sentence.extend(start.split())\n",
    "    else:\n",
    "        sentence.append(start)\n",
    "    \n",
    "    next_gram = start\n",
    "    next_index = None\n",
    "    \n",
    "    # keep going until we hit \"</s>\" token\n",
    "    while stop not in sentence:\n",
    "        if stop in next_gram:\n",
    "            break\n",
    "        \n",
    "        # find the probabilities for all possible continuations\n",
    "        next_list = list(lm[next_gram].keys())\n",
    "        P = lm[next_gram].values()\n",
    "        \n",
    "        # if this is the largest number of continuations seen yet, make it wn_most\n",
    "        if len(P) > wn_most[1]:\n",
    "                wn_most[0] = next_gram\n",
    "                wn_most[1] = len(P)\n",
    "        \n",
    "        # sample the next index from possible continuations\n",
    "        # (some hacking because of the sample() function bug)\n",
    "        if N > 2 and len(P) > 1:\n",
    "            while next_index == None or next_index >= len(next_list):\n",
    "                next_index = sample(P)\n",
    "        elif N <= 2 and len(P) > 1:\n",
    "            next_index = sample(P)\n",
    "        \n",
    "        # add to wn_counter if there is only one possible continuation\n",
    "        elif len(P) == 1:\n",
    "            wn_one += 1\n",
    "            next_index = 0\n",
    "        \n",
    "        # make index None if there is no possible continuation\n",
    "        else:\n",
    "            next_index = None\n",
    "        wn += 1\n",
    "        \n",
    "        # create continuation, append to sentence (if there is no continuation, end sentence with </s>)\n",
    "        if next_index == None:\n",
    "            next_gram = stop\n",
    "        else:\n",
    "            next_gram = next_list[next_index]\n",
    "        sentence.extend(next_gram.split())\n",
    "        next_gram = \" \".join(sentence[-(N-1):])\n",
    "    \n",
    "    return \" \".join(sentence), wn, wn_one, wn_most\n",
    "\n",
    "sentence, wn, wn_one, wn_most = generate_sent(trigram, 3)\n",
    "print(sentence)"
   ]
  },
  {
   "cell_type": "markdown",
   "metadata": {},
   "source": [
    "### [Optional]\n",
    "\n",
    "For how many of the histories $w_{k-N+1}\\dots w_{k-1}$ is the number of continuations $w_n$ equal to **one**? Calculate the percentage of such cases for the different orders *N*.\n",
    "\n",
    "And which history has the **most possible continuations**?"
   ]
  },
  {
   "cell_type": "code",
   "execution_count": 49,
   "metadata": {},
   "outputs": [
    {
     "name": "stdout",
     "output_type": "stream",
     "text": [
      "N=2, bigram sentences\n",
      "\t <s> Et </s>\n",
      "\t <s> Tattoo artists using living choices made part belonged themselves negatively stereotyped way natural catastrophe of cracks , blaming , E , Penelope can embrace and finds itself suggests cardiomyopathy ? Seriously , blaming way points to E Pluribus Unum . </s>\n",
      "\t <s> Woollies are happiness = Bass , unsolicited </s>\n",
      "\t <s> Adam , sit-ins in cake in skydiving </s>\n",
      "\t <s> Identifying these brand Tom knows them whether by squandering </s>\n",
      "\n",
      "10.14% single continuations; most continuations: [',', 16582] \n",
      "\n",
      "N=3, trigram sentences\n",
      "\t <s> Thankfully for Khalil , a solar radio , especially everyone always says to myself I wasn 't always go so bad robot . </s>\n",
      "\t <s> Aaaaaah . </s>\n",
      "\t <s> centers ? . </s>\n",
      "\t <s> Trinculo : Misery acquaints a man about to switch between relaxation and replenishment . </s>\n",
      "\t <s> still fighting to stop al Qaeda 2 . </s>\n",
      "\n",
      "46.00% single continuations; most continuations: [', a', 1972] \n",
      "\n",
      "N=4, quadrigram sentences\n",
      "\t <s> still fighting to stop al Qaeda 2 . </s>\n",
      "\t <s> Orbiters like the MAVEN mission sample the Martian atmosphere . </s>\n",
      "\t <s> Study music , trace your sonic lineages and enjoy that exploration . </s>\n",
      "\t <s> Mathematicians for several hundred million years of experience . </s>\n",
      "\t <s> Twentysomethings are like airplanes just leaving LAX , bound for somewhere west . </s>\n",
      "\n",
      "73.53% single continuations; most continuations: [', is that', 130] \n",
      "\n"
     ]
    }
   ],
   "source": [
    "# this also takes quite long\n",
    "wn_one, wn, wn_most = 0, 0, ['', 0]\n",
    "print('N=2, bigram sentences')\n",
    "for i in range(5):\n",
    "    sentence, wn, wn_one, wn_most = generate_sent(bigram, 2, wn=wn, wn_one=wn_one, wn_most=wn_most)\n",
    "    print('\\t', sentence)\n",
    "print('\\n' + '{0:.2f}'.format((wn_one/wn)*100)+'% single continuations;', 'most continuations:', wn_most, '\\n')\n",
    "\n",
    "wn_one, wn, wn_most = 0, 0, ['', 0]\n",
    "print('N=3, trigram sentences')\n",
    "for i in range(5):\n",
    "    sentence, wn, wn_one, wn_most = generate_sent(trigram, 3, wn=wn, wn_one=wn_one, wn_most=wn_most)\n",
    "    print('\\t', sentence)\n",
    "print('\\n' + '{0:.2f}'.format((wn_one/wn)*100)+'% single continuations;', 'most continuations:', wn_most, '\\n')\n",
    "\n",
    "wn_one, wn, wn_most = 0, 0, ['', 0]\n",
    "print('N=4, quadrigram sentences')\n",
    "for i in range(5):\n",
    "    print('\\t', sentence)\n",
    "    sentence, wn, wn_one, wn_most = generate_sent(quadrigram, 4, wn=wn, wn_one=wn_one, wn_most=wn_most)\n",
    "print('\\n' + '{0:.2f}'.format((wn_one/wn)*100)+'% single continuations;', 'most continuations:', wn_most, '\\n')"
   ]
  },
  {
   "cell_type": "markdown",
   "metadata": {},
   "source": [
    "**Example output:**\n",
    "    \n",
    "```\n",
    "N=2, bigram sentences\n",
    "\t <s> Et </s>\n",
    "\t <s> Tattoo artists using living choices made part belonged themselves negatively stereotyped way natural catastrophe of cracks , blaming , E , Penelope can embrace and finds itself suggests cardiomyopathy ? Seriously , blaming way points to E Pluribus Unum . </s>\n",
    "\t <s> Woollies are happiness = Bass , unsolicited </s>\n",
    "\t <s> Adam , sit-ins in cake in skydiving </s>\n",
    "\t <s> Identifying these brand Tom knows them whether by squandering </s>\n",
    "\n",
    "10.14% single continuations; most continuations: [',', 16582] \n",
    "\n",
    "N=3, trigram sentences\n",
    "\t <s> Thankfully for Khalil , a solar radio , especially everyone always says to myself I wasn 't always go so bad robot . </s>\n",
    "\t <s> Aaaaaah . </s>\n",
    "\t <s> centers ? . </s>\n",
    "\t <s> Trinculo : Misery acquaints a man about to switch between relaxation and replenishment . </s>\n",
    "\t <s> still fighting to stop al Qaeda 2 . </s>\n",
    "\n",
    "46.00% single continuations; most continuations: [', a', 1972] \n",
    "\n",
    "N=4, quadrigram sentences\n",
    "\t <s> still fighting to stop al Qaeda 2 . </s>\n",
    "\t <s> Orbiters like the MAVEN mission sample the Martian atmosphere . </s>\n",
    "\t <s> Study music , trace your sonic lineages and enjoy that exploration . </s>\n",
    "\t <s> Mathematicians for several hundred million years of experience . </s>\n",
    "\t <s> Twentysomethings are like airplanes just leaving LAX , bound for somewhere west . </s>\n",
    "\n",
    "73.53% single continuations; most continuations: [', is that', 130]\n",
    "```\n",
    "\n",
    "*Single continuations increase when N increases.*"
   ]
  },
  {
   "cell_type": "markdown",
   "metadata": {},
   "source": [
    "## Excercise 2.3 (5 points)\n",
    "\n",
    "Let $V$ denote our vocabulary. Recall that for any $w$ in $V$ `bigram[w]` defines a conditional probability $p(v|w)$ over $v$ in $V$. In the case of an **unsmoothed bigram**, $p(v|w) = 0$ for most $v\\in V$, whereas in the **smoothed bigram** smoothing took care that $p(v|w) \\geq 0$ for *all* $v$.\n",
    "\n",
    "The function `plot_bigram_dist(word, bigram, smoothbigram, k=30)` plots shows $p(v|word)$ for the `k` words $v$. One bar shows the probabilities in `bigram` and one in `smoothbigram`. \n",
    "\n",
    "**(a)** Use this function to plot the distribution for at least two words `w` and answer the questions\n",
    "* What is the effect of smoothing on the bigram distribution of frequent words? \n",
    "* What is the effect in the case of infrequent words?\n",
    "* Explain the difference between the two based on the raw counts of `w` \n",
    "\n",
    "**(b)** Now experiment with $k$ much smaller than 1 (but greater than 0!) \n",
    "* What are the effects?\n",
    "\n",
    "\n",
    "**[Hint]** Remember that add-1 smoothing turns \n",
    "$$P(w_n\\mid w_{n-1}) = \\frac{C(w_{n-1}w_{n})}{C(w_{n-1})}$$\n",
    "into\n",
    "$$P_{add-1}(w_n\\mid w_{n-1}) = \\frac{C(w_{n-1}w_{n}) + 1}{C(w_{n-1}) + |V|}.$$\n",
    "\n",
    "What happens when $C(w_{n-1})$ is relatively big (similiar in of size as $ |V| $)? And what if $C(w_{n-1})$ is small? "
   ]
  },
  {
   "cell_type": "code",
   "execution_count": 50,
   "metadata": {
    "collapsed": true
   },
   "outputs": [],
   "source": [
    "import pandas as pd\n",
    "import seaborn as sns    \n",
    "\n",
    "def plot_bigram_dist(word, bigram, smoothbigram, k=30):\n",
    "    d = bigram[word]\n",
    "    ds = smoothbigram[word]\n",
    "    \n",
    "    # sort the probabilities\n",
    "    d_sort = sorted(d.items(), reverse=True, key=lambda t: t[1])[0:k]\n",
    "    ds_sort = sorted(ds.items(), reverse=True, key=lambda t: t[1])[0:k]\n",
    "    \n",
    "    _, probs = zip(*d_sort)\n",
    "    smooth_ws, smooth_probs = zip(*ds_sort)\n",
    "    \n",
    "    # make up for the fact that in the unsmoothed case probs is generally less than k long\n",
    "    probs = probs + (0,) * (k-len(probs)) \n",
    "\n",
    "    w_data = pd.DataFrame({\"w\": smooth_ws * 2,\n",
    "                           \"P({}|w)\".format(word): probs + smooth_probs,\n",
    "                           \"smoothing\": [\"unsmoothed\"]*k + [\"smoothed\"]*k})\n",
    "    \n",
    "    fig, ax = plt.subplots(figsize=(10,10))\n",
    "    plt.xticks(rotation=90)\n",
    "    g = sns.barplot(ax=ax, x=\"w\", y=\"P({}|w)\".format(word), hue=\"smoothing\",\n",
    "                    data=w_data, palette=\"Blues_d\")    "
   ]
  },
  {
   "cell_type": "code",
   "execution_count": 52,
   "metadata": {},
   "outputs": [],
   "source": [
    "# train smoothed bigram with small k (= 0.001)\n",
    "bigram_smoothed_ksmall, unigram_smoothed = train_ngram(data, N=2, k=1e-3, ug=unigram_smoothed)"
   ]
  },
  {
   "cell_type": "code",
   "execution_count": 53,
   "metadata": {
    "scrolled": false
   },
   "outputs": [
    {
     "data": {
      "image/png": "[encoded data removed]",
      "text/plain": [
       "<matplotlib.figure.Figure at 0x16886bcc0>"
      ]
     },
     "metadata": {},
     "output_type": "display_data"
    },
    {
     "data": {
      "image/png": "[encoded data removed]",
      "text/plain": [
       "<matplotlib.figure.Figure at 0x268b827b8>"
      ]
     },
     "metadata": {},
     "output_type": "display_data"
    },
    {
     "data": {
      "image/png": "[encoded data removed]",
      "text/plain": [
       "<matplotlib.figure.Figure at 0x268ed6c88>"
      ]
     },
     "metadata": {},
     "output_type": "display_data"
    },
    {
     "data": {
      "image/png": "[encoded data removed]",
      "text/plain": [
       "<matplotlib.figure.Figure at 0x268eaca90>"
      ]
     },
     "metadata": {},
     "output_type": "display_data"
    }
   ],
   "source": [
    "# add-1 smoothing\n",
    "# frequent word example: 'are'\n",
    "plot_bigram_dist(\"are\", bigram, bigram_smoothed, k = 30)\n",
    "\n",
    "# infrequent word example: 'ordinary'\n",
    "plot_bigram_dist(\"ordinary\", bigram, bigram_smoothed, k = 30)\n",
    "\n",
    "# add-k smoothing with k << 1\n",
    "# frequent word example: 'are'\n",
    "plot_bigram_dist(\"are\", bigram, bigram_smoothed_ksmall, k = 30)\n",
    "\n",
    "# infrequent word example: 'ordinary'\n",
    "plot_bigram_dist(\"ordinary\", bigram, bigram_smoothed_ksmall, k = 30)"
   ]
  },
  {
   "cell_type": "markdown",
   "metadata": {},
   "source": [
    "<u>**(a)** Use this function to plot the distribution for at least two words w and answer the questions</u>\n",
    "* **What is the effect of smoothing on the bigram distribution of frequent words?**\n",
    "\n",
    "*For frequent words, we see that the distribution is flattened out more when smoothing is applied: all following words are relatively assigned lower probabilities, which makes the absolute differences between probabilities smaller.*\n",
    "\n",
    "* **What is the effect in the case of infrequent words?**\n",
    "\n",
    "*For infrequent words, the same thing happens, however since the unsmoothed probabilities were already very small, the smoothed probabilities become almost equal to zero.*\n",
    "\n",
    "* **Explain the difference between the two based on the raw counts of w**\n",
    "\n",
    "*For infrequent words, the raw counts are very small, so the smoothed probabilities $P_{add-k}(w_n\\mid w_{n-1}) = \\frac{C(w_{n-1}w_{n}) + k}{C(w_{n-1}) + k\\cdot |V|}$ become extremely small: a small number $\\big(C(w_{n-1}w_{n}) + k\\big)$ is divided by the size of the vocabulary (which is very large). Frequent words have larger counts relative to the vocabulary, so the smoothed probabilities do not get so extremely small.*\n",
    "\n",
    "<u>**(b)** Now experiment with  k  much smaller than 1 (but greater than 0!)</u>\n",
    "* **What are the effects?**\n",
    "\n",
    "*When k is much smaller than 1, the problems for infrequent words described above decrease substantially, because we do not divide small counts by the large vocabulary size anymore (since the vocabulary size is multiplied by k << 1). However, the smoothed probabilities for frequent words almost do not differ at all from the unsmoothed probabilities for frequent words.*"
   ]
  },
  {
   "cell_type": "markdown",
   "metadata": {},
   "source": [
    "\n",
    "**Recall** that if we have a sentence $w_1,\\dots,w_n$ we can write\n",
    "\n",
    "$$P(w_1\\dots w_n) = P(w_1)P(w_2|w_1) \\cdots P(w_i|w_1 \\dots w_{n-1}) \\approx P(w_1)P(w_2|w_1)\\cdots P(w_{N-1}|w_1\\dots w_{N-2})\\prod_{i=N}^{n} P(w_i|w_{i-(N-1)}\\dots w_{i-1})$$\n",
    "\n",
    "where in the last step we make an $N$-gram approximation of the full conditionals.\n",
    "\n",
    "For example, in the case of a bigram (N=2), the above expression reduces to\n",
    "\n",
    "$$P(w_1 \\dots w_n)\\approx P(w_1)\\prod_{i=2}^{n} P(w_i| w_{i-1}).$$\n",
    "\n",
    "## Exercise 2.4 (5 points)\n",
    "\n",
    "The following sentences are taken from the **training data**. Use your **unsmoothed unigram**, **bigram**, and **trigram** language model to estimate their **probabilities**:\n",
    "\n",
    "    1. Every day was about creating something new .\n",
    "    2. In this machine , a beam of protons and anti-protons are accelerated to near the speed of light and brought \n",
    "       together in a collision , producing a burst of pure energy .\n",
    "\n",
    "**Repeat** this with the **smoothed (add-1)** versions of the N-grams. What is the effect of smoothing on the probabilities?\n"
   ]
  },
  {
   "cell_type": "code",
   "execution_count": 54,
   "metadata": {},
   "outputs": [],
   "source": [
    "sentence_1 = \"Every day was about creating something new .\"\n",
    "sentence_2 = (\"In this machine , a beam of protons and anti-protons are accelerated to near the speed of light\" +\n",
    "            \" and brought together in a collision , producing a burst of pure energy .\")\n",
    "\n",
    "def predict_sent_prob(sentence, model, N):\n",
    "    sentence_list = ['<s>'] + sentence.split() + ['</s>']\n",
    "    prob = 1\n",
    "    \n",
    "    if N == 1:\n",
    "        for word in sentence_list:\n",
    "            prob *= model[word]\n",
    "    else:\n",
    "        for i, word in enumerate(sentence_list[N-1:], N):\n",
    "            history = ' '.join(sentence_list[i-N:i-1])\n",
    "            prob *= model[history][word]\n",
    "        \n",
    "    return prob"
   ]
  },
  {
   "cell_type": "code",
   "execution_count": 55,
   "metadata": {},
   "outputs": [
    {
     "name": "stdout",
     "output_type": "stream",
     "text": [
      "Unsmoothed probabilities:\n",
      " Sentence 1:\n",
      "\t Unigram: 8.711492631550748e-27\n",
      "\t Bigram: 4.667998867880972e-17\n",
      "\t Trigram: 8.06431419407934e-09\n",
      " Sentence 2:\n",
      "\t Unigram: 2.7545011290780525e-102\n",
      "\t Bigram: 2.0159953795734388e-72\n",
      "\t Trigram: 2.1652443601105852e-29\n",
      "\n",
      "Smoothed probabilities:\n",
      " Sentence 1:\n",
      "\t Unigram: 7.628943757061614e-27\n",
      "\t Bigram: 1.3642489842696694e-26\n",
      "\t Trigram: 1.2871017598371913e-32\n",
      " Sentence 2:\n",
      "\t Unigram: 4.109546393965371e-102\n",
      "\t Bigram: 1.555307447842366e-116\n",
      "\t Trigram: 1.0982335869916417e-134\n"
     ]
    }
   ],
   "source": [
    "print('Unsmoothed probabilities:')\n",
    "print(' Sentence 1:')\n",
    "print('\\t Unigram:', predict_sent_prob(sentence_1, unigram, 1))\n",
    "print('\\t Bigram:', predict_sent_prob(sentence_1, bigram, 2))\n",
    "print('\\t Trigram:', predict_sent_prob(sentence_1, trigram, 3))\n",
    "print(' Sentence 2:')\n",
    "print('\\t Unigram:', predict_sent_prob(sentence_2, unigram, 1))\n",
    "print('\\t Bigram:', predict_sent_prob(sentence_2, bigram, 2))\n",
    "print('\\t Trigram:', predict_sent_prob(sentence_2, trigram, 3))\n",
    "\n",
    "print('\\nSmoothed probabilities:')\n",
    "print(' Sentence 1:')\n",
    "print('\\t Unigram:', predict_sent_prob(sentence_1, unigram_smoothed, 1))\n",
    "print('\\t Bigram:', predict_sent_prob(sentence_1, bigram_smoothed, 2))\n",
    "print('\\t Trigram:', predict_sent_prob(sentence_1, trigram_smoothed, 3))\n",
    "print(' Sentence 2:')\n",
    "print('\\t Unigram:', predict_sent_prob(sentence_2, unigram_smoothed, 1))\n",
    "print('\\t Bigram:', predict_sent_prob(sentence_2, bigram_smoothed, 2))\n",
    "print('\\t Trigram:', predict_sent_prob(sentence_2, trigram_smoothed, 3))"
   ]
  },
  {
   "cell_type": "markdown",
   "metadata": {},
   "source": [
    "**What is the effect of smoothing on the probabilities?**\n",
    "\n",
    "*Smoothing causes the probabilities to be a lot smaller, especially for the bigram and trigram probabilities. Therefore we see that generally, the unsmoothed probabilities increase when N increases (probabilities for the trigram model are larger than for the bigram model etc.), but the smoothed probabilities decrease when N increases (probabilities for the trigram model are smaller than for the bigram model etc.).*"
   ]
  },
  {
   "cell_type": "markdown",
   "metadata": {},
   "source": [
    "## Exercise 2.5 (5 points)\n",
    "\n",
    "The above sentences were taken from the training set, hence they will all have probability greater than 0. The big challenge for our language model are of course with sentence that contain unseen N-grams: if such an N-gram occurs our model immediately assigns the sentence probability zero.\n",
    "\n",
    "The following three senteces are taken from the **test set** availlable in the file **ted-test.txt**. What probabilities do your smoothed and unsmoothed language models asign in this case?\n",
    "\n",
    "    1. Because these robots are really safe .\n",
    "    2. We have sheer nothingness on one side , and we have this vision of a reality that encompasses every \n",
    "       conceivable world at the other extreme : the fullest possible reality , nothingness , the simplest possible \n",
    "       reality ."
   ]
  },
  {
   "cell_type": "code",
   "execution_count": 56,
   "metadata": {},
   "outputs": [
    {
     "name": "stdout",
     "output_type": "stream",
     "text": [
      "Unsmoothed probabilities:\n",
      " Sentence 3:\n",
      "\t Unigram: 3.5731707008639346e-24\n",
      "\t Bigram: 2.6913665324688018e-15\n",
      "\t Trigram: 0.0\n",
      " Sentence 4:\n",
      "\t Unigram: 0.0\n",
      "\t Bigram: 0.0\n",
      "\t Trigram: 0.0\n",
      "\n",
      "Smoothed probabilities:\n",
      " Sentence 3:\n",
      "\t Unigram: 3.1752807875634993e-24\n",
      "\t Bigram: 7.259172702960281e-24\n",
      "\t Trigram: 5.739308973496184e-31\n",
      " Sentence 4:\n",
      "\t Unigram: 2.294815372736393e-117\n",
      "\t Bigram: 0.0\n",
      "\t Trigram: 0.0\n"
     ]
    }
   ],
   "source": [
    "sentence_3 = \"Because these robots are really safe .\"\n",
    "sentence_4 = (\"We have sheer nothingness on one side , and we have this vision of a reality that encompasses every\" + \n",
    "   \"conceivable world at the other extreme : the fullest possible reality , nothingness , the simplest possible\" + \n",
    "   \"reality .\")\n",
    "\n",
    "print('Unsmoothed probabilities:')\n",
    "print(' Sentence 3:')\n",
    "print('\\t Unigram:', predict_sent_prob(sentence_3, unigram, 1))\n",
    "print('\\t Bigram:', predict_sent_prob(sentence_3, bigram, 2))\n",
    "print('\\t Trigram:', predict_sent_prob(sentence_3, trigram, 3))\n",
    "print(' Sentence 4:')\n",
    "print('\\t Unigram:', predict_sent_prob(sentence_4, unigram, 1))\n",
    "print('\\t Bigram:', predict_sent_prob(sentence_4, bigram, 2))\n",
    "print('\\t Trigram:', predict_sent_prob(sentence_4, trigram, 3))\n",
    "\n",
    "print('\\nSmoothed probabilities:')\n",
    "print(' Sentence 3:')\n",
    "print('\\t Unigram:', predict_sent_prob(sentence_3, unigram_smoothed, 1))\n",
    "print('\\t Bigram:', predict_sent_prob(sentence_3, bigram_smoothed, 2))\n",
    "print('\\t Trigram:', predict_sent_prob(sentence_3, trigram_smoothed, 3))\n",
    "print(' Sentence 4:')\n",
    "print('\\t Unigram:', predict_sent_prob(sentence_4, unigram_smoothed, 1))\n",
    "print('\\t Bigram:', predict_sent_prob(sentence_4, bigram_smoothed, 2))\n",
    "print('\\t Trigram:', predict_sent_prob(sentence_4, trigram_smoothed, 3))"
   ]
  },
  {
   "cell_type": "markdown",
   "metadata": {},
   "source": [
    "**What probabilities do your smoothed and unsmoothed language models asign in this case?**\n",
    "\n",
    "*We see more zero probabilities for the unsmoothed language models than for the smoothed language models. This makes sense, since smoothing assigns non-zero probabilities to unseen data.*"
   ]
  },
  {
   "cell_type": "markdown",
   "metadata": {},
   "source": [
    "### [Optional]\n",
    "\n",
    "**Optional** What percentage of the sentences in the test set get assigned probability 0 under your smoothed and unsmoothed language models? "
   ]
  },
  {
   "cell_type": "code",
   "execution_count": 57,
   "metadata": {},
   "outputs": [
    {
     "name": "stdout",
     "output_type": "stream",
     "text": [
      "Percentage of zero probabilities in unsmoothed language models: 57.14%\n",
      "Percentage of zero probabilities in smoothed language models: 27.41%\n"
     ]
    }
   ],
   "source": [
    "test_sentences = open(\"ted/ted-test.txt\", \"r\").read().split('\\n')\n",
    "\n",
    "total_sentences = 0\n",
    "unsmoothed_probs = []\n",
    "smoothed_probs = []\n",
    "\n",
    "for sentence in test_sentences:\n",
    "    # add 3 for each sentence because we're computing probabilities for each sentence 3 times\n",
    "    total_sentences += 3\n",
    "    \n",
    "    # compute unsmoothed probabilities\n",
    "    unsmoothed_probs.extend([predict_sent_prob(sentence, unigram, 1), \n",
    "                             predict_sent_prob(sentence, bigram, 2),\n",
    "                             predict_sent_prob(sentence, trigram, 3)])\n",
    "    \n",
    "    # compute smoothed probabilities\n",
    "    smoothed_probs.extend([predict_sent_prob(sentence, unigram_smoothed, 1), \n",
    "                           predict_sent_prob(sentence, bigram_smoothed, 2),\n",
    "                           predict_sent_prob(sentence, trigram_smoothed, 3)])\n",
    "    \n",
    "print('Percentage of zero probabilities in unsmoothed language models:', \n",
    "      '{0:.2f}'.format((unsmoothed_probs.count(0.0)/total_sentences)*100) + '%')\n",
    "print('Percentage of zero probabilities in smoothed language models:', \n",
    "      '{0:.2f}'.format((smoothed_probs.count(0.0)/total_sentences)*100) + '%')"
   ]
  },
  {
   "cell_type": "markdown",
   "metadata": {},
   "source": [
    "## Exercise 2.6 (5 points)\n",
    "\n",
    "**Perplexity** is very frequently used **metric** for evaluating probabilistic models such as language models. The perplexity (sometimes called **PP** for short) of a language model on a sentence is the **inverse probability** of the sentence, **normalized** by the number of words:\n",
    "\n",
    "$$PP(w_1 \\dots w_n) = P(w_1\\dots w_n)^{-\\frac{1}{n}}.$$\n",
    "\n",
    "Here we can again approximate $P(w_1 \\dots w_n)$ with N-gram probabilities, as above.\n",
    "Note: $(x_1\\cdots x_n)^{-\\frac{1}{n}}$ is the **geometric mean** of the numbers $x_1,\\dots,x_n$. It is like the (regular) artithmetic mean, but with **products** instead of **sums**. The geometric mean is a more natural choice in the case of *PP* because behind $P(w_1\\dots w_n)$ is a series of $n$ products ([more here](https://en.wikipedia.org/wiki/Geometric_mean)).\n",
    "\n",
    "\n",
    "\n",
    "Compute the perplexity of the training sentences from excercise 2.1. What big difference between the **probabilities** of the sentences and the **perplexities** of the sentences do you notice?"
   ]
  },
  {
   "cell_type": "code",
   "execution_count": 58,
   "metadata": {},
   "outputs": [
    {
     "name": "stdout",
     "output_type": "stream",
     "text": [
      "Unsmoothed perplexities:\n",
      " Sentence 1:\n",
      "\t Unigram: 403.63678900916966\n",
      "\t Bigram: 42.9622408820975\n",
      "\t Trigram: 6.446786027963955\n",
      " Sentence 2:\n",
      "\t Unigram: 970.6386043998526\n",
      "\t Bigram: 128.43739376623046\n",
      "\t Trigram: 6.967441420091576\n",
      "\n",
      "Smoothed perplexities:\n",
      " Sentence 1:\n",
      "\t Unigram: 409.0284897884788\n",
      "\t Bigram: 385.9318631434462\n",
      "\t Trigram: 1545.3921846002797\n",
      " Sentence 2:\n",
      "\t Unigram: 959.2840832965023\n",
      "\t Bigram: 2547.5519644554456\n",
      "\t Trigram: 8709.22613226912\n"
     ]
    }
   ],
   "source": [
    "def perplexity(sentence, model, N):\n",
    "    perplexity = predict_sent_prob(sentence, model, N) ** (-1/(len(sentence.split()) + 2))\n",
    "    return perplexity\n",
    "    \n",
    "print('Unsmoothed perplexities:')\n",
    "print(' Sentence 1:')\n",
    "print('\\t Unigram:', perplexity(sentence_1, unigram, 1))\n",
    "print('\\t Bigram:', perplexity(sentence_1, bigram, 2))\n",
    "print('\\t Trigram:', perplexity(sentence_1, trigram, 3))\n",
    "print(' Sentence 2:')\n",
    "print('\\t Unigram:', perplexity(sentence_2, unigram, 1))\n",
    "print('\\t Bigram:', perplexity(sentence_2, bigram, 2))\n",
    "print('\\t Trigram:', perplexity(sentence_2, trigram, 3))\n",
    "\n",
    "print('\\nSmoothed perplexities:')\n",
    "print(' Sentence 1:')\n",
    "print('\\t Unigram:', perplexity(sentence_1, unigram_smoothed, 1))\n",
    "print('\\t Bigram:', perplexity(sentence_1, bigram_smoothed, 2))\n",
    "print('\\t Trigram:', perplexity(sentence_1, trigram_smoothed, 3))\n",
    "print(' Sentence 2:')\n",
    "print('\\t Unigram:', perplexity(sentence_2, unigram_smoothed, 1))\n",
    "print('\\t Bigram:', perplexity(sentence_2, bigram_smoothed, 2))\n",
    "print('\\t Trigram:', perplexity(sentence_2, trigram_smoothed, 3))"
   ]
  },
  {
   "cell_type": "markdown",
   "metadata": {},
   "source": [
    "** What big difference between the probabilities of the sentences and the perplexities of the sentences do you notice? **\n",
    "\n",
    "*The probabilities are all very small, while the perplexities are all larger positive numbers. Therefore, the perplexities will probably be easier to do computations with.*"
   ]
  },
  {
   "cell_type": "markdown",
   "metadata": {},
   "source": [
    "# That's it!\n",
    "\n",
    "Congratulations, you have made it to the end of the tutorial. Here we will recap the gist of this notebook. \n",
    "\n",
    "**Make sure all your cells can be executed and all your answers are there. Then, read on if you're interested!**\n",
    "\n",
    "-----\n",
    "\n",
    "By now you should have a solid feeling for the problem of **sparsity in language data**; there's just never enough data. For the task of language modelling, we saw that sparsity is a serious challenge. \n",
    "\n",
    "It would be great to be able to model $p(w_n|w_1 \\dots w_{n-1})$ for unlimited $n$: the larger $n$ the better our language model should become at capturing the long-range dependencies between words that characterize actual human sentences, and the more probability our model will asign to such sentences as opposed to sentences that are word-soup. But in the N-gram approach, increasing $n$ will quickly kill all generalizing abilities of the model: the model will start to asign probabilities only to sentences it has seen in the training data.\n",
    "\n",
    "So, where to go from here? Here are three directions that we could head in.\n",
    "\n",
    "### Smoothing\n",
    "\n",
    "We have seen one example of smoothing in this lab: add-k smoothing. This is an easy method, both conceptually and implementation-wise. But the results are not great, and the effects it has on the distributions can be extreme.\n",
    "\n",
    "A much more sophisticated method of smoothing is so-called **Kneser-Ney smoothing**. The method is described in detail in section 4.5 of J&M (3rd edition). This is one of the best performing N-gram smoothing methods, and up to a few years ago a popular implementation of it called [KenLM](https://kheafield.com/code/kenlm/) gave state of the art results.\n",
    "\n",
    "### From words to characters\n",
    "\n",
    "In this lab we have considered language modeling as the task of predicting a **word** $w_n$ based on a history of **words** $w_1\\cdots w_n$. What if instead we let our basic units of modelling be **characters**? The task then becomes to model $p(c_k\\mid c_{k-N-1}\\dots c_{k-1})$ where each $c_i$ is now an ASCII character instead of an entire word.\n",
    "\n",
    "Suddenly sparsity of data is no longer a problem! The set of characters to use is tiny (< 100) compared to even a small-sized vocabulary as today. Have a look at this very illustrative notebook written by Yoav Golberg to see such a method in action: [The unreasonable effectiveness of Character-level Language Models](http://nbviewer.jupyter.org/gist/yoavg/d76121dfde2618422139).\n",
    "\n",
    "(So what is the downside?)\n",
    "\n",
    "\n",
    "### Neural language models\n",
    "\n",
    "The above notebook was actually written as a response to this blog post by Andrej Karpathy: [The Unreasonable Effectiveness of Recurrent Neural Networks](http://karpathy.github.io/2015/05/21/rnn-effectiveness/). Go ahead and read it if you haven't already: it is a superb introduction to the topic of Recurrent Neural Networks.\n",
    "\n",
    "Neural language models solve the problem of data sparsity in a different manner. Instead of estimating the probabilities $p(w_k\\mid w_{k-N-1}\\dots w_{k-1})$ by counting occurences in the data, they use a neural network $f_{\\theta}$ parametrized by parameters $\\theta$ to predict this probability. The parameters $\\theta$ are learned through optimization. \n",
    "\n",
    "The simplest approach goes like this: each word in the history $w_{k-N-1}\\dots w_{k-1}$ is embedded separately giving  vectors $e_{k-N-1}\\dots e_{k-1}$ and then concatenated into one long vectors $[e_{k-N-1};\\dots ;e_{k-1}]$. The network then uses this history vector to predict a probability distribution over words $w$ in the vocabulary $V$:\n",
    "\n",
    "$$p(w \\mid w_{k-N-1}\\dots w_{k-1}) = f_{\\theta}([e_{k-N-1};\\dots;e_{k-1}]).$$\n",
    "\n",
    "(In order to produce legitimate probabilities the final layer of such a network will be for example a $softmax$.)\n",
    "\n",
    "This provides a solution to the sparsity problem by having the network let the individual embeddings of the words in the history interact through its non-linear transforamtion. We are letting the network figure out the smoothing itself!\n",
    "\n",
    "RNNs are a clever extension of this idea, where a hidden state vector $h$ is re-used and updated at each step $k$ in order to store the information of the entire history up to step $k-1$. That is, an RNN actually does away with the N-order approximation; it tries to model the full conditional directly! That means that\n",
    "\n",
    "$$p(w \\mid w_1\\dots w_{k-1}) \\approx RNN_{\\theta}([e_{k-1};h_{k-1}])$$\n",
    "\n",
    "where the hidden state $h_{k-1}$ is a compression of the *entire history* $w_1\\dots w_{k-1}$.\n",
    "\n",
    "Another great place to learn about RNNs, their problems, and solutions to those, is on the blog of [Christopher Olah](http://colah.github.io/posts/2015-08-Understanding-LSTMs/). The project on language modelling will involve learning more about these methods. \n",
    "\n",
    "-----------\n",
    "(And now, it's time to read the classic essay by Eugene Wigner that gave both of the posts their title: [The Unreasonable Effectiveness of Mathematics in the Natural Sciences](http://www.dartmouth.edu/~matc/MathDrama/reading/Wigner.html))"
   ]
  }
 ],
 "metadata": {
  "anaconda-cloud": {},
  "kernelspec": {
   "display_name": "Python 3",
   "language": "python",
   "name": "python3"
  },
  "language_info": {
   "codemirror_mode": {
    "name": "ipython",
    "version": 3
   },
   "file_extension": ".py",
   "mimetype": "text/x-python",
   "name": "python",
   "nbconvert_exporter": "python",
   "pygments_lexer": "ipython3",
   "version": "3.5.2"
  }
 },
 "nbformat": 4,
 "nbformat_minor": 1
}
